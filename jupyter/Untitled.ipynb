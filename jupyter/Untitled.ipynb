{
 "cells": [
  {
   "cell_type": "code",
   "execution_count": 1,
   "id": "1c7dd38c-6230-4728-9f57-660ef7d299df",
   "metadata": {},
   "outputs": [],
   "source": [
    "import sys \n",
    "sys.path.append('/home/minato_aqua/BilibiliExplosion')"
   ]
  },
  {
   "cell_type": "code",
   "execution_count": 2,
   "id": "1027704d-f207-43af-809c-9a759152f476",
   "metadata": {},
   "outputs": [],
   "source": [
    "from fastapi接口.service.PlayWright.Operator import PlaywrightOperator\n",
    "a = PlaywrightOperator('test',False)"
   ]
  },
  {
   "cell_type": "code",
   "execution_count": 3,
   "id": "d808fd7d-7d54-4172-83a5-a7f069cc6b50",
   "metadata": {},
   "outputs": [],
   "source": [
    "await a.launch()"
   ]
  },
  {
   "cell_type": "code",
   "execution_count": 4,
   "id": "0398b9f3-10f6-45da-92f5-1644da4b98ed",
   "metadata": {},
   "outputs": [],
   "source": [
    "async with await a.expect_response(\n",
    "        f'https://www.zhihu.com/api/v4/v2/pins/*/moments?*') as response_info:\n",
    "    await a.goto(\n",
    "        f'https://www.zhihu.com/people/7-67-73-83/pins'\n",
    "    )"
   ]
  },
  {
   "cell_type": "code",
   "execution_count": 5,
   "id": "6113177e-54bf-4335-8a6b-9a32b7f14d93",
   "metadata": {},
   "outputs": [],
   "source": [
    "resp = await response_info.value"
   ]
  },
  {
   "cell_type": "code",
   "execution_count": 6,
   "id": "d661af1c-292c-4d55-89eb-bfe8c42c12fc",
   "metadata": {},
   "outputs": [
    {
     "data": {
      "text/plain": [
       "{'error': {'code': 101, 'name': 'AuthenticationError', 'message': '身份未经过验证'}}"
      ]
     },
     "execution_count": 6,
     "metadata": {},
     "output_type": "execute_result"
    }
   ],
   "source": [
    "await resp.json()\n"
   ]
  },
  {
   "cell_type": "code",
   "execution_count": 12,
   "id": "c19b7690-ca4e-4319-93fe-100522a6587b",
   "metadata": {},
   "outputs": [
    {
     "data": {
      "text/plain": [
       "'/home/minato_aqua/BilibiliExplosion/fastapi接口/service/PlayWright/user_data/test'"
      ]
     },
     "execution_count": 12,
     "metadata": {},
     "output_type": "execute_result"
    }
   ],
   "source": [
    "import os\n",
    "current_dir = os.path.dirname()\n",
    "os.path.join(current_dir, 'user_data', 'test')"
   ]
  },
  {
   "cell_type": "code",
   "execution_count": null,
   "id": "9656d108-b84f-4369-ae14-f0c94b6c8efe",
   "metadata": {},
   "outputs": [],
   "source": []
  }
 ],
 "metadata": {
  "kernelspec": {
   "display_name": "Python 3 (ipykernel)",
   "language": "python",
   "name": "python3"
  },
  "language_info": {
   "codemirror_mode": {
    "name": "ipython",
    "version": 3
   },
   "file_extension": ".py",
   "mimetype": "text/x-python",
   "name": "python",
   "nbconvert_exporter": "python",
   "pygments_lexer": "ipython3",
   "version": "3.12.11"
  }
 },
 "nbformat": 4,
 "nbformat_minor": 5
}
